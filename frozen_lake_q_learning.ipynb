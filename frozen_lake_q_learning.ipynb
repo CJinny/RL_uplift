{
 "cells": [
  {
   "cell_type": "code",
   "execution_count": 63,
   "metadata": {},
   "outputs": [],
   "source": [
    "import gym\n",
    "import numpy as np\n",
    "import pandas as pd\n",
    "import random\n",
    "from matplotlib import pyplot as plt\n",
    "import time\n",
    "from IPython.display import clear_output\n",
    "\n",
    "env = gym.make(\"FrozenLake-v0\")\n",
    "action_space_size = env.action_space.n\n",
    "state_space_size = env.observation_space.n\n"
   ]
  },
  {
   "cell_type": "code",
   "execution_count": 64,
   "metadata": {},
   "outputs": [],
   "source": [
    "num_episodes = 10000\n",
    "max_steps_per_episode = 100\n",
    "\n",
    "lr = 0.1\n",
    "gamma = 0.99 # discount factor, it quantifies how much importance we give for future rewards\n",
    "\n",
    "## epsilon decay is actually an efficient mechanism which makes learning faster!\n",
    "min_epsilon = 1e-3\n",
    "max_epsilon = 0.9\n",
    "epsilon_decay = 1e-3\n",
    "\n",
    "# epsilon, exploration rate (allow random sampling) rate, from start it's 100% chance of exploration! \n",
    "epsilon = max_epsilon\n",
    "\n",
    "#Q = np.zeros((state_space_size, action_space_size))\n"
   ]
  },
  {
   "cell_type": "code",
   "execution_count": 65,
   "metadata": {},
   "outputs": [],
   "source": [
    "def frozen_lake(decay=False, epsilon=epsilon, num_episodes=num_episodes, split=1000):\n",
    "    \n",
    "    env = gym.make(\"FrozenLake-v0\")\n",
    "    action_space_size = env.action_space.n\n",
    "    state_space_size = env.observation_space.n    \n",
    "      \n",
    "    Q = np.zeros((state_space_size, action_space_size))\n",
    "    rewards_all_episodes = []\n",
    "    epsilon_all_episodes = [epsilon]\n",
    "    Q_all_episodes = []   \n",
    "    \n",
    "    for episode in range(num_episodes):\n",
    "        \n",
    "        state = env.reset()\n",
    "\n",
    "        done = False\n",
    "        rewards_current_episodes = 0       # increment reward per step\n",
    "\n",
    "        for step in range(max_steps_per_episode):\n",
    "\n",
    "            rand = random.uniform(0, 1)\n",
    "\n",
    "            if rand > epsilon:\n",
    "                # Exploitation: agent takes a look at Q table and selects action with the highest Q value\n",
    "                action = np.argmax(Q[state,:])\n",
    "            else:\n",
    "                # Exploration: allows agent to explore new states that otherwise wouldn't be selected\n",
    "                action = env.action_space.sample()\n",
    "\n",
    "            new_state, reward, done, info = env.step(action)   ## there's a probability of going each way depending on the Q table!!, env.step(1) doesn't always lead to going down\n",
    "\n",
    "            #update Q-table for Q(s,a)\n",
    "            Q[state, action] = (1-lr) * Q[state, action] + lr * (reward + gamma*np.max(Q[new_state, :]))            \n",
    "            \n",
    "            state = new_state\n",
    "            rewards_current_episodes += reward\n",
    "\n",
    "            if done == True:\n",
    "                break\n",
    "                \n",
    "                \n",
    "        if decay is True:\n",
    "            # as episodes grow, epsilon decreases, meaning less exploration and more exploitation\n",
    "            epsilon = min_epsilon + (max_epsilon - min_epsilon) * np.exp(-epsilon_decay*episode)\n",
    "            epsilon_all_episodes.append(epsilon)\n",
    "        \n",
    "        \n",
    "        Q_all_episodes.append(Q.copy())\n",
    "        rewards_all_episodes.append(rewards_current_episodes)\n",
    "     \n",
    "    \n",
    "    \n",
    "    rewards_per_thousand_episodes = np.split(np.array(rewards_all_episodes), num_episodes/split)\n",
    "    count = split\n",
    "    for r in rewards_per_thousand_episodes:\n",
    "        print(count, \":\", str(sum(r/split)))\n",
    "        \n",
    "        count += split\n",
    "    return rewards_all_episodes, Q, epsilon_all_episodes\n"
   ]
  },
  {
   "cell_type": "code",
   "execution_count": 66,
   "metadata": {
    "scrolled": true
   },
   "outputs": [
    {
     "name": "stdout",
     "output_type": "stream",
     "text": [
      "1000 : 0.024000000000000014\n",
      "2000 : 0.02000000000000001\n",
      "3000 : 0.015000000000000006\n",
      "4000 : 0.014000000000000005\n",
      "5000 : 0.017000000000000008\n",
      "6000 : 0.017000000000000008\n",
      "7000 : 0.015000000000000006\n",
      "8000 : 0.02100000000000001\n",
      "9000 : 0.015000000000000006\n",
      "10000 : 0.013000000000000005\n"
     ]
    }
   ],
   "source": [
    "rewards_all_episodes, Q, epsilon_all_episodes = frozen_lake(decay=False)\n"
   ]
  },
  {
   "cell_type": "code",
   "execution_count": 68,
   "metadata": {
    "scrolled": true
   },
   "outputs": [
    {
     "name": "stdout",
     "output_type": "stream",
     "text": [
      "1000 : 0.058000000000000045\n",
      "2000 : 0.21600000000000016\n",
      "3000 : 0.43200000000000033\n",
      "4000 : 0.6230000000000004\n",
      "5000 : 0.6650000000000005\n",
      "6000 : 0.6870000000000005\n",
      "7000 : 0.7000000000000005\n",
      "8000 : 0.7480000000000006\n",
      "9000 : 0.7330000000000005\n",
      "10000 : 0.7390000000000005\n"
     ]
    }
   ],
   "source": [
    "rewards_all_episodes, Q, epsilon_all_episodes = frozen_lake(decay=True)\n"
   ]
  },
  {
   "cell_type": "code",
   "execution_count": 61,
   "metadata": {},
   "outputs": [],
   "source": [
    "%matplotlib inline\n",
    "from matplotlib import animation\n",
    "import matplotlib.pyplot as plt\n",
    "from IPython.display import display\n",
    "\n",
    "def display_frames_as_gif(frames):\n",
    "    \"\"\"\n",
    "    Displays a list of frames as a gif, with controls\n",
    "    \"\"\"\n",
    "    plt.figure(figsize=(frames[0].shape[1] / 72.0, frames[0].shape[0] / 72.0), dpi = 72)\n",
    "    patch = plt.imshow(frames[0])\n",
    "    plt.axis('off')\n",
    "\n",
    "    def animate(i):\n",
    "        patch.set_data(frames[i])\n",
    "\n",
    "    anim = animation.FuncAnimation(plt.gcf(), animate, frames = len(frames), interval=50)\n",
    "    display(display_animation(anim, default_mode='loop'))"
   ]
  },
  {
   "cell_type": "code",
   "execution_count": 71,
   "metadata": {},
   "outputs": [
    {
     "name": "stdout",
     "output_type": "stream",
     "text": [
      "  (Up)\n",
      "SFFF\n",
      "F\u001b[41mH\u001b[0mFH\n",
      "FFFH\n",
      "HFFG\n",
      "******You fell through a hole!******\n"
     ]
    }
   ],
   "source": [
    "env = gym.make(\"FrozenLake-v0\")\n",
    "EXPLOIT = False\n",
    "\n",
    "for episode in range(10):\n",
    "    state = env.reset()\n",
    "    done = False\n",
    "    print(\"*******EPISODDE \", episode+1, \"*******\\n\\n\\n\\n\")\n",
    "    time.sleep(1)\n",
    "    \n",
    "    for step in range(50):\n",
    "        clear_output(wait=True)\n",
    "        env.render(mode='human')\n",
    "        time.sleep(0.3)\n",
    "        \n",
    "        if EXPLOIT:\n",
    "            action = np.argmax(Q[state, :])\n",
    "        else:\n",
    "            action = env.action_space.sample()\n",
    "        new_state, reward, done, info = env.step(action)\n",
    "        \n",
    "        if done:\n",
    "            clear_output(wait=True)\n",
    "            env.render()\n",
    "            if reward == 1:\n",
    "                print(\"******You reached the goal!******\")\n",
    "                time.sleep(3)\n",
    "                \n",
    "            else:\n",
    "                print(\"******You fell through a hole!******\")\n",
    "                time.sleep(3)\n",
    "            clear_output(wait=True)\n",
    "            break\n",
    "        \n",
    "        state = new_state\n",
    "env.close()"
   ]
  },
  {
   "cell_type": "code",
   "execution_count": 70,
   "metadata": {},
   "outputs": [
    {
     "name": "stdout",
     "output_type": "stream",
     "text": [
      "  (Down)\n",
      "SFFF\n",
      "FHFH\n",
      "FF\u001b[41mF\u001b[0mH\n",
      "HFFG\n"
     ]
    }
   ],
   "source": [
    "env = gym.make(\"FrozenLake-v0\")\n",
    "EXPLOIT = True\n",
    "\n",
    "for episode in range(10):\n",
    "    state = env.reset()\n",
    "    done = False\n",
    "    print(\"*******EPISODDE \", episode+1, \"*******\\n\\n\\n\\n\")\n",
    "    time.sleep(1)\n",
    "    \n",
    "    for step in range(50):\n",
    "        clear_output(wait=True)\n",
    "        env.render(mode='human')\n",
    "        time.sleep(0.3)\n",
    "        \n",
    "        if EXPLOIT:\n",
    "            action = np.argmax(Q[state, :])\n",
    "        else:\n",
    "            action = env.action_space.sample()\n",
    "        new_state, reward, done, info = env.step(action)\n",
    "        \n",
    "        if done:\n",
    "            clear_output(wait=True)\n",
    "            env.render()\n",
    "            if reward == 1:\n",
    "                print(\"******You reached the goal!******\")\n",
    "                time.sleep(3)\n",
    "                \n",
    "            else:\n",
    "                print(\"******You fell through a hole!******\")\n",
    "                time.sleep(3)\n",
    "            clear_output(wait=True)\n",
    "            break\n",
    "        \n",
    "        state = new_state\n",
    "env.close()"
   ]
  },
  {
   "cell_type": "code",
   "execution_count": null,
   "metadata": {},
   "outputs": [],
   "source": []
  }
 ],
 "metadata": {
  "kernelspec": {
   "display_name": "Python 3",
   "language": "python",
   "name": "python3"
  },
  "language_info": {
   "codemirror_mode": {
    "name": "ipython",
    "version": 3
   },
   "file_extension": ".py",
   "mimetype": "text/x-python",
   "name": "python",
   "nbconvert_exporter": "python",
   "pygments_lexer": "ipython3",
   "version": "3.7.7"
  }
 },
 "nbformat": 4,
 "nbformat_minor": 2
}
