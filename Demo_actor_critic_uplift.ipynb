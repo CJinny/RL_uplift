{
 "cells": [
  {
   "cell_type": "code",
   "execution_count": 1,
   "metadata": {},
   "outputs": [
    {
     "name": "stderr",
     "output_type": "stream",
     "text": [
      "/usr/local/lib/python3.7/site-packages/lightgbm/__init__.py:46: UserWarning: Starting from version 2.2.1, the library file in distribution wheels for macOS is built by the Apple Clang (Xcode_8.3.3) compiler.\n",
      "This means that in case of installing LightGBM from PyPI via the ``pip install lightgbm`` command, you don't need to install the gcc compiler anymore.\n",
      "Instead of that, you need to install the OpenMP library, which is required for running LightGBM on the system with the Apple Clang compiler.\n",
      "You can install the OpenMP library by the following command: ``brew install libomp``.\n",
      "  \"You can install the OpenMP library by the following command: ``brew install libomp``.\", UserWarning)\n",
      "Using TensorFlow backend.\n"
     ]
    }
   ],
   "source": [
    "import pandas as pd\n",
    "import numpy as np\n",
    "from matplotlib import pyplot as plt\n",
    "import seaborn as sns\n",
    "from sklearn.preprocessing import StandardScaler, MaxAbsScaler, MinMaxScaler\n",
    "from sklearn.model_selection import StratifiedKFold, KFold\n",
    "import lightgbm as lgb\n",
    "from sklearn.metrics import f1_score, accuracy_score, precision_score, recall_score, auc, roc_auc_score, cohen_kappa_score, log_loss, confusion_matrix\n",
    "from collections import deque\n",
    "from keras.backend.tensorflow_backend import set_session\n",
    "from keras.backend.tensorflow_backend import clear_session\n",
    "from keras.backend.tensorflow_backend import get_session\n",
    "import tensorflow\n",
    "from keras.layers import Dense, Activation, Input, Reshape, Embedding, concatenate, Dropout\n",
    "from keras.models import Model, load_model, Sequential\n",
    "from keras.optimizers import Adam\n",
    "import keras.backend as K\n",
    "from keras.callbacks import ModelCheckpoint, Callback, EarlyStopping, TensorBoard, ReduceLROnPlateau\n",
    "import keras\n",
    "import tensorflow as tf\n",
    "import random\n",
    "import os\n",
    "from collections import deque\n",
    "import warnings\n",
    "warnings.filterwarnings(\"ignore\")\n",
    "from tqdm import tqdm_notebook, tqdm\n"
   ]
  },
  {
   "cell_type": "code",
   "execution_count": 2,
   "metadata": {},
   "outputs": [
    {
     "data": {
      "text/html": [
       "<div>\n",
       "<style scoped>\n",
       "    .dataframe tbody tr th:only-of-type {\n",
       "        vertical-align: middle;\n",
       "    }\n",
       "\n",
       "    .dataframe tbody tr th {\n",
       "        vertical-align: top;\n",
       "    }\n",
       "\n",
       "    .dataframe thead th {\n",
       "        text-align: right;\n",
       "    }\n",
       "</style>\n",
       "<table border=\"1\" class=\"dataframe\">\n",
       "  <thead>\n",
       "    <tr style=\"text-align: right;\">\n",
       "      <th></th>\n",
       "      <th>Feature_0</th>\n",
       "      <th>Feature_1</th>\n",
       "      <th>Feature_2</th>\n",
       "      <th>Feature_3</th>\n",
       "      <th>Feature_4</th>\n",
       "      <th>Cat_0</th>\n",
       "      <th>Cat_1</th>\n",
       "      <th>Cat_2</th>\n",
       "      <th>Cat_3</th>\n",
       "      <th>Cat_4</th>\n",
       "      <th>Treatment</th>\n",
       "      <th>Outcome</th>\n",
       "    </tr>\n",
       "  </thead>\n",
       "  <tbody>\n",
       "    <tr>\n",
       "      <th>0</th>\n",
       "      <td>0.547385</td>\n",
       "      <td>0.676824</td>\n",
       "      <td>0.160835</td>\n",
       "      <td>0.870523</td>\n",
       "      <td>0.662477</td>\n",
       "      <td>1</td>\n",
       "      <td>0</td>\n",
       "      <td>1</td>\n",
       "      <td>1</td>\n",
       "      <td>0</td>\n",
       "      <td>3</td>\n",
       "      <td>1</td>\n",
       "    </tr>\n",
       "    <tr>\n",
       "      <th>1</th>\n",
       "      <td>0.712239</td>\n",
       "      <td>0.366255</td>\n",
       "      <td>0.176376</td>\n",
       "      <td>0.658022</td>\n",
       "      <td>0.014532</td>\n",
       "      <td>0</td>\n",
       "      <td>1</td>\n",
       "      <td>0</td>\n",
       "      <td>0</td>\n",
       "      <td>0</td>\n",
       "      <td>1</td>\n",
       "      <td>0</td>\n",
       "    </tr>\n",
       "    <tr>\n",
       "      <th>2</th>\n",
       "      <td>0.598097</td>\n",
       "      <td>0.377505</td>\n",
       "      <td>0.180714</td>\n",
       "      <td>0.907436</td>\n",
       "      <td>0.176371</td>\n",
       "      <td>1</td>\n",
       "      <td>1</td>\n",
       "      <td>1</td>\n",
       "      <td>1</td>\n",
       "      <td>0</td>\n",
       "      <td>4</td>\n",
       "      <td>0</td>\n",
       "    </tr>\n",
       "    <tr>\n",
       "      <th>3</th>\n",
       "      <td>0.543332</td>\n",
       "      <td>0.302003</td>\n",
       "      <td>0.128728</td>\n",
       "      <td>0.867209</td>\n",
       "      <td>0.011746</td>\n",
       "      <td>1</td>\n",
       "      <td>0</td>\n",
       "      <td>0</td>\n",
       "      <td>1</td>\n",
       "      <td>1</td>\n",
       "      <td>2</td>\n",
       "      <td>1</td>\n",
       "    </tr>\n",
       "    <tr>\n",
       "      <th>4</th>\n",
       "      <td>0.421514</td>\n",
       "      <td>0.571057</td>\n",
       "      <td>0.096272</td>\n",
       "      <td>0.738091</td>\n",
       "      <td>0.173162</td>\n",
       "      <td>0</td>\n",
       "      <td>0</td>\n",
       "      <td>1</td>\n",
       "      <td>1</td>\n",
       "      <td>0</td>\n",
       "      <td>2</td>\n",
       "      <td>1</td>\n",
       "    </tr>\n",
       "  </tbody>\n",
       "</table>\n",
       "</div>"
      ],
      "text/plain": [
       "   Feature_0  Feature_1  Feature_2  Feature_3  Feature_4  Cat_0  Cat_1  Cat_2  \\\n",
       "0   0.547385   0.676824   0.160835   0.870523   0.662477      1      0      1   \n",
       "1   0.712239   0.366255   0.176376   0.658022   0.014532      0      1      0   \n",
       "2   0.598097   0.377505   0.180714   0.907436   0.176371      1      1      1   \n",
       "3   0.543332   0.302003   0.128728   0.867209   0.011746      1      0      0   \n",
       "4   0.421514   0.571057   0.096272   0.738091   0.173162      0      0      1   \n",
       "\n",
       "   Cat_3  Cat_4  Treatment  Outcome  \n",
       "0      1      0          3        1  \n",
       "1      0      0          1        0  \n",
       "2      1      0          4        0  \n",
       "3      1      1          2        1  \n",
       "4      1      0          2        1  "
      ]
     },
     "execution_count": 2,
     "metadata": {},
     "output_type": "execute_result"
    }
   ],
   "source": [
    "feature_cols = ['Feature_0', 'Feature_1', 'Feature_2', 'Feature_3', 'Feature_4', 'Cat_0', 'Cat_1', 'Cat_2', 'Cat_3', 'Cat_4']\n",
    "df = pd.read_csv('synthetic_data.csv')\n",
    "df.head()"
   ]
  },
  {
   "cell_type": "code",
   "execution_count": 3,
   "metadata": {},
   "outputs": [],
   "source": [
    "def random_everything(seed=42):\n",
    "    os.environ['TF_DETERMINISTIC_OPS'] = str(seed)\n",
    "    os.environ['PYTHONHASHSEED'] = str(seed)\n",
    "    random.seed(seed)\n",
    "    np.random.seed(seed)\n",
    "    tf.random.set_seed(seed)\n",
    "    tf.compat.v1.set_random_seed(seed)\n",
    "\n",
    "def reset_keras():\n",
    "    #K = reset_graph_with_backend\n",
    "    K.clear_session()\n",
    "    tf.compat.v1.reset_default_graph()\n",
    "\n",
    "\n",
    "class Actor_critic(object):\n",
    "    \n",
    "    def __init__(self, n_actions=5, gamma=1.,\n",
    "                 numeric_input_dims=10, \n",
    "                 maxlen=5000,\n",
    "                 fc1_dims=64, fc2_dims=64, \n",
    "                 bootstrap_size=4096,\n",
    "                 actor_file='Actor_uplift.h5',\n",
    "                 critic_file='Critic_uplift.h5',\n",
    "                 alpha=1e-4, \n",
    "                 beta=1e-4,\n",
    "                 lr_decay=0.9999,\n",
    "                 lr_min=1e-8,\n",
    "                 exploit=True\n",
    "                ):\n",
    "        \n",
    "        self.bootstrap_size = bootstrap_size\n",
    "        self.maxlen = maxlen\n",
    "        self.exploit = exploit\n",
    "        self.alpha = alpha\n",
    "        self.beta = beta\n",
    "        self.lr_decay = lr_decay\n",
    "        self.lr_min = lr_min\n",
    "        self.gamma = gamma\n",
    "        self.Q = 0\n",
    "\n",
    "        self.numeric_input_dims = numeric_input_dims\n",
    "        self.n_actions = n_actions\n",
    "        self.fc1_dims = fc1_dims\n",
    "        self.fc2_dims = fc2_dims\n",
    "        \n",
    "        self.state_memory = deque(maxlen=maxlen)\n",
    "        self.action_memory = deque(maxlen=maxlen)\n",
    "        self.reward_memory = deque(maxlen=maxlen)\n",
    "        self.new_state_memory = deque(maxlen=maxlen)\n",
    "\n",
    "        self.action_space = [i for i in range(n_actions)]\n",
    "        self.actor_file = actor_file\n",
    "        self.critic_file = critic_file\n",
    "        \n",
    "        self.actor, self.critic, self.predict = self.build_actor_critic()\n",
    "        self.update_model()\n",
    "        \n",
    "    def build_actor_critic(self):\n",
    "        \n",
    "        random_everything(seed=42)\n",
    "        num_input   = Input(shape=(self.numeric_input_dims,))\n",
    "        advantages = Input(shape=[1])\n",
    "        dense1 = Dense(self.fc1_dims, activation='relu')(num_input)\n",
    "        dense2 = Dense(self.fc2_dims, activation='relu')(dense1)\n",
    "        probs = Dense(self.n_actions, activation='softmax')(dense2)\n",
    "        values = Dense(1, activation='linear')(dense2)         ## value is the maximum of Q value for a given state\n",
    "\n",
    "        def custom_loss(y_true, y_pred):\n",
    "            out = K.clip(y_pred, 1e-8, 1-1e-8)   ## don't wanna take the log of 0!\n",
    "            log_lik = y_true * K.log(out)\n",
    "            return K.sum(-log_lik*advantages)\n",
    "        \n",
    "        actor = Model(input=[num_input, advantages], output=[probs])\n",
    "        actor.compile(optimizer=Adam(lr=self.alpha), loss=custom_loss)\n",
    "        \n",
    "        critic = Model(input=[num_input], output=[values])\n",
    "        critic.compile(optimizer=Adam(lr=self.beta), loss='mean_squared_error')\n",
    "        \n",
    "        predict = Model(input=[num_input], output=[probs])\n",
    "        \n",
    "        return actor, critic, predict\n",
    "    \n",
    "    def update_model(self):\n",
    "        \n",
    "        self.predict.set_weights(self.actor.get_weights())\n",
    "        \n",
    "    def choose_action(self, state, seed=42):\n",
    "        \n",
    "        state = state[np.newaxis,:]\n",
    "        num_input = state\n",
    "        probs = self.predict.predict([num_input])[0]\n",
    "        random_everything(seed=seed)\n",
    "        \n",
    "        if self.exploit:\n",
    "            action = np.random.choice(self.action_space, p=probs)\n",
    "        else:\n",
    "            ## for random control\n",
    "            action = np.random.choice(self.action_space)\n",
    "        return action\n",
    "    \n",
    "    def store_transition(self, state, action, reward, new_state):\n",
    "        \n",
    "        self.action_memory.append(action)\n",
    "        self.state_memory.append(state)\n",
    "        self.reward_memory.append(reward)\n",
    "        self.new_state_memory.append(new_state)\n",
    "\n",
    "    def sample_buffer(self, bootstrap_size, seed=42):\n",
    "                \n",
    "        np.random.seed(seed)\n",
    "        batch_idx = np.random.choice(len(self.state_memory), bootstrap_size)\n",
    "\n",
    "        states = np.array(agent.state_memory)[batch_idx]\n",
    "        action_memory = np.array(agent.action_memory)[batch_idx]\n",
    "        rewards = np.array(agent.reward_memory)[batch_idx]\n",
    "        new_states = np.array(agent.new_state_memory)[batch_idx]\n",
    "        # one-hot-encoded!\n",
    "        actions = np.zeros([bootstrap_size, self.n_actions])\n",
    "        actions[np.arange(bootstrap_size), action_memory] = 1\n",
    "        \n",
    "        rewards = rewards[:,np.newaxis]\n",
    "        \n",
    "        return states, actions, rewards, new_states\n",
    "        \n",
    "    def learn(self, seed=42):\n",
    "        \n",
    "        if len(self.action_memory) < self.maxlen:\n",
    "            return\n",
    "        \n",
    "        states, actions, rewards, new_states = self.sample_buffer(self.bootstrap_size, seed=seed)\n",
    "\n",
    "        critic_values = self.critic.predict(states)\n",
    "        new_critic_values = self.critic.predict(new_states)\n",
    "        \n",
    "        targets = rewards + self.gamma*new_critic_values\n",
    "        advantage = targets - critic_values\n",
    "        \n",
    "        random_everything(seed)\n",
    "        self.actor.fit([states, advantage], actions, verbose=0)\n",
    "        random_everything(seed)\n",
    "        self.critic.fit(states, targets, verbose=0)\n",
    "        \n",
    "        \n",
    "        alpha = max(self.actor.optimizer.learning_rate.numpy()*self.lr_decay, self.lr_min)\n",
    "        beta = max(self.critic.optimizer.learning_rate.numpy()*self.lr_decay, self.lr_min)\n",
    "        \n",
    "        self.actor.optimizer.learning_rate.assign(alpha)\n",
    "        self.critic.optimizer.learning_rate.assign(beta)\n",
    "        \n",
    "        self.update_model()\n",
    "    \n",
    "    def save_model(self):\n",
    "        self.actor.save(self.actor_file)\n",
    "        self.critic.save(self.critic_file)\n",
    "    \n",
    "    def load_model(self):\n",
    "        self.actor.load_weights(self.actor_file)\n",
    "        self.critic.load_weights(self.critic_file)\n",
    "        self.update_model()\n"
   ]
  },
  {
   "cell_type": "code",
   "execution_count": 4,
   "metadata": {},
   "outputs": [],
   "source": [
    "def get_reward(df, idx, policy_action):\n",
    "        \n",
    "    true_action = df.loc[idx, 'Treatment']\n",
    "    target = df.loc[idx,'Outcome']\n",
    "    \n",
    "    if policy_action == true_action:\n",
    "        return (target)\n",
    "      \n",
    "    elif true_action == 0 and policy_action > 0:\n",
    "        return -(target)\n",
    "    else:\n",
    "        return 0\n",
    "    "
   ]
  },
  {
   "cell_type": "code",
   "execution_count": 5,
   "metadata": {},
   "outputs": [
    {
     "name": "stdout",
     "output_type": "stream",
     "text": [
      "0.0624\n",
      "0.0656\n",
      "0.0628\n",
      "0.0684\n",
      "0.0646\n",
      "0.0654\n"
     ]
    }
   ],
   "source": [
    "indices = np.arange(len(df.iloc[:,:]))\n",
    "zero_reward_list = []\n",
    "zero_Q_list = []\n",
    "for idx in indices[:]:\n",
    "    state = df.loc[idx,feature_cols].values\n",
    "    action = 0\n",
    "    state = state[np.newaxis,:]\n",
    "    zero_reward = get_reward(df, idx, action)\n",
    "    zero_reward_list.append(zero_reward)\n",
    "    \n",
    "indices = np.arange(len(df.iloc[:,:]))\n",
    "one_reward_list = []\n",
    "one_Q_list = []\n",
    "for idx in indices[:]:\n",
    "    state = df.loc[idx,feature_cols].values\n",
    "    action = 1\n",
    "    state = state[np.newaxis,:]\n",
    "    one_reward = get_reward(df, idx, action)\n",
    "    one_reward_list.append(one_reward)\n",
    "\n",
    "indices = np.arange(len(df.iloc[:,:]))\n",
    "two_reward_list = []\n",
    "two_Q_list = []\n",
    "for idx in indices[:]:\n",
    "    state = df.loc[idx,feature_cols].values\n",
    "    action = 2\n",
    "    state = state[np.newaxis,:]\n",
    "    two_reward = get_reward(df, idx, action)\n",
    "    two_reward_list.append(two_reward)\n",
    "    \n",
    "indices = np.arange(len(df.iloc[:,:]))\n",
    "three_reward_list = []\n",
    "three_Q_list = []\n",
    "for idx in indices[:]:\n",
    "    state = df.loc[idx,feature_cols].values\n",
    "    action = 3\n",
    "    state = state[np.newaxis,:]\n",
    "    three_reward = get_reward(df, idx, action)\n",
    "    three_reward_list.append(three_reward)\n",
    "    \n",
    "indices = np.arange(len(df.iloc[:,:]))\n",
    "four_reward_list = []\n",
    "for idx in indices[:]:\n",
    "    state = df.loc[idx,feature_cols].values\n",
    "    action = 4\n",
    "    state = state[np.newaxis,:]\n",
    "    four_reward = get_reward(df, idx, action)\n",
    "    four_reward_list.append(four_reward)\n",
    "\n",
    "indices = np.arange(len(df.iloc[:,:]))\n",
    "random_reward_list = []\n",
    "agent = Actor_critic(exploit=True)\n",
    "for idx in indices[:]:\n",
    "    state = df.loc[idx,feature_cols].values\n",
    "    action = agent.choose_action(state, seed=idx)\n",
    "    state = state[np.newaxis,:]\n",
    "    random_reward = get_reward(df, idx, action)\n",
    "    random_reward_list.append(random_reward)\n",
    "\n",
    "print(np.mean(zero_reward_list))\n",
    "print(np.mean(one_reward_list))\n",
    "print(np.mean(two_reward_list))\n",
    "print(np.mean(three_reward_list))\n",
    "print(np.mean(four_reward_list))\n",
    "print(np.mean(random_reward_list))\n"
   ]
  },
  {
   "cell_type": "code",
   "execution_count": 6,
   "metadata": {
    "scrolled": false
   },
   "outputs": [
    {
     "data": {
      "application/vnd.jupyter.widget-view+json": {
       "model_id": "5e1ecba840a94fb28fbacad462258559",
       "version_major": 2,
       "version_minor": 0
      },
      "text/plain": [
       "HBox(children=(IntProgress(value=0), HTML(value='')))"
      ]
     },
     "metadata": {},
     "output_type": "display_data"
    },
    {
     "name": "stdout",
     "output_type": "stream",
     "text": [
      "episode 0 mean_reward 0.06361\n",
      "episode 10 mean_reward 0.06441\n",
      "episode 20 mean_reward 0.06701\n",
      "episode 30 mean_reward 0.06881\n",
      "episode 40 mean_reward 0.07081\n",
      "episode 50 mean_reward 0.07041\n",
      "episode 60 mean_reward 0.06961\n",
      "episode 70 mean_reward 0.07201\n",
      "episode 80 mean_reward 0.07181\n",
      "episode 90 mean_reward 0.07101\n",
      "\n"
     ]
    }
   ],
   "source": [
    "reset_keras()\n",
    "\n",
    "feature_cols = ['Feature_0', 'Feature_1', 'Feature_2', 'Feature_3', 'Feature_4', 'Cat_0', 'Cat_1', 'Cat_2', 'Cat_3', 'Cat_4']\n",
    "\n",
    "NUM_EPISODES = 100\n",
    "reward_history = []\n",
    "\n",
    "n_sample = 5000\n",
    "\n",
    "random_everything(seed=42)\n",
    "\n",
    "agent = Actor_critic(alpha=1e-5, beta=5e-5, fc1_dims=128, \n",
    "                     fc2_dims=128, bootstrap_size=5000, maxlen=n_sample)\n",
    "\n",
    "best_mean_reward = 0.\n",
    "mean_reward_history = []\n",
    "\n",
    "for e in tqdm_notebook(range(NUM_EPISODES)):\n",
    "    reward_history.append([])\n",
    "    indices = np.arange(len(df.iloc[:,:]))\n",
    "    \n",
    "    random_everything(seed=e%5)\n",
    "    np.random.shuffle(indices)\n",
    "    \n",
    "    idx = indices[0]\n",
    "    state = df.loc[idx,feature_cols].values\n",
    "    \n",
    "    for idx in indices[1:n_sample]:\n",
    "        #state = df.loc[idx,feature_cols].values\n",
    "        action = agent.choose_action(state, seed=idx)\n",
    "        reward = get_reward(df, idx, action)\n",
    "        reward_history[e].append(reward)\n",
    "        new_state = df.loc[idx,feature_cols].values\n",
    "        agent.store_transition(state, action, reward, new_state)\n",
    "        state = new_state\n",
    "        \n",
    "    agent.learn(seed=idx)\n",
    "    mean_reward = np.mean(reward_history[e])\n",
    "    \n",
    "    if e%10 == 0:\n",
    "        print(f'episode {e} mean_reward {mean_reward:.4}')\n",
    "    state_memory = np.array(agent.state_memory)\n",
    "    action_memory = np.array(agent.action_memory)\n",
    "    reward_memory = np.array(agent.reward_memory)\n",
    "\n",
    "    actions = np.zeros([len(action_memory), agent.n_actions])\n",
    "    actions[np.arange(len(action_memory)), action_memory] = 1\n",
    "        \n",
    "    mean_reward_history.append(mean_reward)\n",
    "    if mean_reward > best_mean_reward:\n",
    "        agent.save_model()\n",
    "        best_mean_reward = mean_reward\n",
    "   "
   ]
  },
  {
   "cell_type": "code",
   "execution_count": 7,
   "metadata": {
    "scrolled": true
   },
   "outputs": [
    {
     "data": {
      "text/plain": [
       "[<matplotlib.lines.Line2D at 0x141fbebd0>]"
      ]
     },
     "execution_count": 7,
     "metadata": {},
     "output_type": "execute_result"
    },
    {
     "data": {
      "image/png": "[encoded data removed]",
      "text/plain": [
       "<Figure size 432x288 with 1 Axes>"
      ]
     },
     "metadata": {
      "needs_background": "light"
     },
     "output_type": "display_data"
    }
   ],
   "source": [
    "plt.plot(np.arange(len(mean_reward_history)), mean_reward_history)\n"
   ]
  },
  {
   "cell_type": "code",
   "execution_count": 8,
   "metadata": {},
   "outputs": [
    {
     "name": "stdout",
     "output_type": "stream",
     "text": [
      "0.0788\n",
      "(array([0, 1, 2, 3, 4]), array([1029,  476,  598,  822, 2075]))\n"
     ]
    }
   ],
   "source": [
    "agent.load_model()\n",
    "indices = np.arange(len(df.iloc[:,:]))\n",
    "agent.load_model()\n",
    "action_list = []\n",
    "reward_list = []\n",
    "Q_list = []\n",
    "for idx in indices[:]:\n",
    "    state = df.loc[idx,feature_cols].values\n",
    "    action = agent.choose_action(state, seed=idx)\n",
    "    state = state[np.newaxis,:]\n",
    "    Q = agent.predict.predict(state)[0]\n",
    "    reward = get_reward(df, idx, action)\n",
    "    action_list.append(action)\n",
    "    reward_list.append(reward)\n",
    "    Q_list.append(Q)\n",
    "\n",
    "print(np.mean(reward_list))\n",
    "print(np.unique(action_list, return_counts=True))"
   ]
  },
  {
   "cell_type": "code",
   "execution_count": 9,
   "metadata": {
    "scrolled": true
   },
   "outputs": [
    {
     "data": {
      "text/plain": [
       "Text(0.5, 1.0, 'Cumulative uplift response unweighted reward comparison')"
      ]
     },
     "execution_count": 9,
     "metadata": {},
     "output_type": "execute_result"
    },
    {
     "data": {
      "image/png": "[encoded data removed]",
      "text/plain": [
       "<Figure size 432x288 with 1 Axes>"
      ]
     },
     "metadata": {
      "needs_background": "light"
     },
     "output_type": "display_data"
    }
   ],
   "source": [
    "plt.plot(range(len(reward_list)), np.cumsum(reward_list), label='Actor critic based')\n",
    "plt.plot(range(len(reward_list)), np.cumsum(random_reward_list), label='Random action')\n",
    "plt.plot(range(len(reward_list)), np.cumsum(zero_reward_list), label='No action (0)')\n",
    "plt.plot(range(len(reward_list)), np.cumsum(one_reward_list), label='Single action (1)')\n",
    "plt.plot(range(len(reward_list)), np.cumsum(two_reward_list), label='Single action (2)')\n",
    "plt.plot(range(len(reward_list)), np.cumsum(three_reward_list), label='Single action (3)')\n",
    "plt.plot(range(len(reward_list)), np.cumsum(four_reward_list), label='Single action (4)')\n",
    "\n",
    "plt.xlabel='Number of states'\n",
    "plt.ylabel='Cumulative reward'\n",
    "plt.legend()\n",
    "plt.title('Cumulative uplift response unweighted reward comparison')\n"
   ]
  },
  {
   "cell_type": "code",
   "execution_count": 12,
   "metadata": {},
   "outputs": [
    {
     "data": {
      "text/plain": [
       "array([[2.3823664]], dtype=float32)"
      ]
     },
     "execution_count": 12,
     "metadata": {},
     "output_type": "execute_result"
    }
   ],
   "source": [
    "agent.critic.predict(state)"
   ]
  },
  {
   "cell_type": "code",
   "execution_count": 13,
   "metadata": {},
   "outputs": [
    {
     "data": {
      "text/plain": [
       "array([[0.95955637, 0.76233371, 0.0584064 , 0.73094635, 0.01638532,\n",
       "        1.        , 0.        , 1.        , 0.        , 0.        ]])"
      ]
     },
     "execution_count": 13,
     "metadata": {},
     "output_type": "execute_result"
    }
   ],
   "source": [
    "state"
   ]
  },
  {
   "cell_type": "code",
   "execution_count": null,
   "metadata": {},
   "outputs": [],
   "source": []
  }
 ],
 "metadata": {
  "kernelspec": {
   "display_name": "Python 3",
   "language": "python",
   "name": "python3"
  },
  "language_info": {
   "codemirror_mode": {
    "name": "ipython",
    "version": 3
   },
   "file_extension": ".py",
   "mimetype": "text/x-python",
   "name": "python",
   "nbconvert_exporter": "python",
   "pygments_lexer": "ipython3",
   "version": "3.7.7"
  }
 },
 "nbformat": 4,
 "nbformat_minor": 2
}
